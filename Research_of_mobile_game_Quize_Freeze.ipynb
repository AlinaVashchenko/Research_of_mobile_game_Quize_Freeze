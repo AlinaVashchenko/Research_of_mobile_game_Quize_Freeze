{
 "cells": [
  {
   "attachments": {},
   "cell_type": "markdown",
   "metadata": {},
   "source": [
    "# Исследование мобильной игры Quiz Freeze"
   ]
  },
  {
   "attachments": {},
   "cell_type": "markdown",
   "metadata": {},
   "source": [
    "## Задачи:\n",
    "### 1. Определить, насколько обучение сокращает время прохождения этапов игры.\n",
    "### 2. Доказать, что успешное обучение само по себе влияет на оплату и не имеет значения то, каким этапом оно шло.\n",
    "### 3. Определить, насколько прозрачен процесс взаимодействия с игрой."
   ]
  },
  {
   "cell_type": "code",
   "execution_count": 214,
   "metadata": {},
   "outputs": [],
   "source": [
    "#Читаем данные, преобразуем время в формат datetime\n",
    "import pandas as pd\n",
    "events = pd.read_csv('data/events.csv')\n",
    "purchases = pd.read_csv('data/purchase.csv')\n",
    "events['start_time'] = pd.to_datetime(events['start_time'], errors='coerce')\n",
    "purchases['event_datetime'] = pd.to_datetime(\n",
    "    purchases['event_datetime'], errors='coerce'\n",
    ")"
   ]
  },
  {
   "cell_type": "code",
   "execution_count": 215,
   "metadata": {},
   "outputs": [],
   "source": [
    "#Формируем датафрейм с пользователями, зарегистрировавшимися в 2018-м году\n",
    "mask1 = events['event_type'] == 'registration'\n",
    "mask2 = events['start_time'].dt.year == 2018\n",
    "df_reg_2018 = events[mask1 & mask2]\n",
    "users_2018_lst = df_reg_2018['user_id'].to_list()\n",
    "events_df = events[events['user_id'].isin(users_2018_lst)].reset_index(drop=True)\n",
    "purchases_df = purchases[\n",
    "    purchases['user_id'].isin(users_2018_lst)\n",
    "].reset_index(drop=True)\n"
   ]
  },
  {
   "cell_type": "code",
   "execution_count": 216,
   "metadata": {},
   "outputs": [],
   "source": [
    "#Скорректируем столбцы обеих датафреймов для объединения\n",
    "events_df = events_df.rename(columns={'id': 'event_id'})\n",
    "\n",
    "purchases_df['event_type'] = 'purchase'\n",
    "purchases_df = purchases_df.rename(\n",
    "    columns={'id': 'purchase_id', 'event_datetime': 'start_time'}\n",
    ")"
   ]
  },
  {
   "cell_type": "code",
   "execution_count": 217,
   "metadata": {},
   "outputs": [],
   "source": [
    "#Объединяем датафреймы\n",
    "total_df = pd.concat([events_df, purchases_df])"
   ]
  },
  {
   "attachments": {},
   "cell_type": "markdown",
   "metadata": {},
   "source": [
    "### 1. Определить, насколько обучение сокращает время прохождения этапов игры."
   ]
  },
  {
   "attachments": {},
   "cell_type": "markdown",
   "metadata": {},
   "source": [
    "Создаём сводную таблицу с указанием времени начала каждого этапа для каждого пользователя:"
   ]
  },
  {
   "cell_type": "code",
   "execution_count": 218,
   "metadata": {},
   "outputs": [],
   "source": [
    "user_time_df = total_df.pivot_table(\n",
    "    values='start_time',\n",
    "    index='user_id',\n",
    "    columns='event_type',\n",
    "    aggfunc='min'\n",
    ")\n"
   ]
  },
  {
   "attachments": {},
   "cell_type": "markdown",
   "metadata": {},
   "source": [
    "Вычисляем время прохождения каждого этапа для каждого пользователя:"
   ]
  },
  {
   "cell_type": "code",
   "execution_count": 219,
   "metadata": {},
   "outputs": [],
   "source": [
    "\n",
    "user_time_df['reg - level_choice'] = user_time_df['level_choice'] \\\n",
    "    - user_time_df['registration']\n",
    "user_time_df['level_choice - pack_choice'] = user_time_df['pack_choice'] \\\n",
    "    - user_time_df['level_choice']\n",
    "user_time_df['pack_choice - purchase'] = user_time_df['purchase'] \\\n",
    "    - user_time_df['pack_choice']"
   ]
  },
  {
   "cell_type": "code",
   "execution_count": 220,
   "metadata": {},
   "outputs": [],
   "source": [
    "#Сбрасываем и переименовываем индекс\n",
    "user_time_df = user_time_df.reset_index()\n",
    "user_time_df.index.rename('index', inplace=True)"
   ]
  },
  {
   "attachments": {},
   "cell_type": "markdown",
   "metadata": {},
   "source": [
    "Определим группы пользователей, прошедших обучение и отказавшихся от обучения:"
   ]
  },
  {
   "cell_type": "code",
   "execution_count": 221,
   "metadata": {},
   "outputs": [],
   "source": [
    "users_with_finished_tutorial = set(\n",
    "    total_df[total_df['event_type'] == 'tutorial_finish']['user_id'].unique()\n",
    ")\n",
    "\n",
    "users_with_started_tutorial = set(\n",
    "    total_df[total_df['event_type'] == 'tutorial_start']['user_id'].unique()\n",
    ")\n",
    "all_users = set(total_df['user_id'].unique())\n",
    "\n",
    "users_wo_tutorial = all_users.difference(users_with_started_tutorial)"
   ]
  },
  {
   "attachments": {},
   "cell_type": "markdown",
   "metadata": {},
   "source": [
    "Создадим отдельный признак, отвечающий за наличие пройденного обучения либо его полное отсутствие:"
   ]
  },
  {
   "cell_type": "code",
   "execution_count": 222,
   "metadata": {},
   "outputs": [
    {
     "data": {
      "text/html": [
       "<div>\n",
       "<style scoped>\n",
       "    .dataframe tbody tr th:only-of-type {\n",
       "        vertical-align: middle;\n",
       "    }\n",
       "\n",
       "    .dataframe tbody tr th {\n",
       "        vertical-align: top;\n",
       "    }\n",
       "\n",
       "    .dataframe thead th {\n",
       "        text-align: right;\n",
       "    }\n",
       "</style>\n",
       "<table border=\"1\" class=\"dataframe\">\n",
       "  <thead>\n",
       "    <tr style=\"text-align: right;\">\n",
       "      <th>event_type</th>\n",
       "      <th>user_id</th>\n",
       "      <th>level_choice</th>\n",
       "      <th>pack_choice</th>\n",
       "      <th>purchase</th>\n",
       "      <th>registration</th>\n",
       "      <th>tutorial_finish</th>\n",
       "      <th>tutorial_start</th>\n",
       "      <th>reg - level_choice</th>\n",
       "      <th>level_choice - pack_choice</th>\n",
       "      <th>pack_choice - purchase</th>\n",
       "      <th>status</th>\n",
       "    </tr>\n",
       "    <tr>\n",
       "      <th>index</th>\n",
       "      <th></th>\n",
       "      <th></th>\n",
       "      <th></th>\n",
       "      <th></th>\n",
       "      <th></th>\n",
       "      <th></th>\n",
       "      <th></th>\n",
       "      <th></th>\n",
       "      <th></th>\n",
       "      <th></th>\n",
       "      <th></th>\n",
       "    </tr>\n",
       "  </thead>\n",
       "  <tbody>\n",
       "    <tr>\n",
       "      <th>0</th>\n",
       "      <td>27832</td>\n",
       "      <td>NaT</td>\n",
       "      <td>NaT</td>\n",
       "      <td>NaT</td>\n",
       "      <td>2018-01-01 03:48:40</td>\n",
       "      <td>NaT</td>\n",
       "      <td>NaT</td>\n",
       "      <td>NaT</td>\n",
       "      <td>NaT</td>\n",
       "      <td>NaT</td>\n",
       "      <td>not started tutorial</td>\n",
       "    </tr>\n",
       "    <tr>\n",
       "      <th>1</th>\n",
       "      <td>27833</td>\n",
       "      <td>NaT</td>\n",
       "      <td>NaT</td>\n",
       "      <td>NaT</td>\n",
       "      <td>2018-01-01 04:07:25</td>\n",
       "      <td>2018-01-01 17:50:08</td>\n",
       "      <td>2018-01-01 17:47:40</td>\n",
       "      <td>NaT</td>\n",
       "      <td>NaT</td>\n",
       "      <td>NaT</td>\n",
       "      <td>finished tutorial</td>\n",
       "    </tr>\n",
       "    <tr>\n",
       "      <th>2</th>\n",
       "      <td>27834</td>\n",
       "      <td>NaT</td>\n",
       "      <td>NaT</td>\n",
       "      <td>NaT</td>\n",
       "      <td>2018-01-01 08:35:10</td>\n",
       "      <td>2018-01-01 19:48:01</td>\n",
       "      <td>2018-01-01 19:46:11</td>\n",
       "      <td>NaT</td>\n",
       "      <td>NaT</td>\n",
       "      <td>NaT</td>\n",
       "      <td>finished tutorial</td>\n",
       "    </tr>\n",
       "    <tr>\n",
       "      <th>3</th>\n",
       "      <td>27835</td>\n",
       "      <td>2018-01-01 20:37:22</td>\n",
       "      <td>2018-01-01 20:38:43</td>\n",
       "      <td>NaT</td>\n",
       "      <td>2018-01-01 11:54:47</td>\n",
       "      <td>2018-01-01 15:06:15</td>\n",
       "      <td>2018-01-01 15:00:51</td>\n",
       "      <td>0 days 08:42:35</td>\n",
       "      <td>0 days 00:01:21</td>\n",
       "      <td>NaT</td>\n",
       "      <td>finished tutorial</td>\n",
       "    </tr>\n",
       "    <tr>\n",
       "      <th>4</th>\n",
       "      <td>27836</td>\n",
       "      <td>NaT</td>\n",
       "      <td>NaT</td>\n",
       "      <td>NaT</td>\n",
       "      <td>2018-01-01 13:28:07</td>\n",
       "      <td>2018-01-01 15:42:58</td>\n",
       "      <td>2018-01-01 14:54:40</td>\n",
       "      <td>NaT</td>\n",
       "      <td>NaT</td>\n",
       "      <td>NaT</td>\n",
       "      <td>finished tutorial</td>\n",
       "    </tr>\n",
       "  </tbody>\n",
       "</table>\n",
       "</div>"
      ],
      "text/plain": [
       "event_type  user_id        level_choice         pack_choice purchase  \\\n",
       "index                                                                  \n",
       "0             27832                 NaT                 NaT      NaT   \n",
       "1             27833                 NaT                 NaT      NaT   \n",
       "2             27834                 NaT                 NaT      NaT   \n",
       "3             27835 2018-01-01 20:37:22 2018-01-01 20:38:43      NaT   \n",
       "4             27836                 NaT                 NaT      NaT   \n",
       "\n",
       "event_type        registration     tutorial_finish      tutorial_start  \\\n",
       "index                                                                    \n",
       "0          2018-01-01 03:48:40                 NaT                 NaT   \n",
       "1          2018-01-01 04:07:25 2018-01-01 17:50:08 2018-01-01 17:47:40   \n",
       "2          2018-01-01 08:35:10 2018-01-01 19:48:01 2018-01-01 19:46:11   \n",
       "3          2018-01-01 11:54:47 2018-01-01 15:06:15 2018-01-01 15:00:51   \n",
       "4          2018-01-01 13:28:07 2018-01-01 15:42:58 2018-01-01 14:54:40   \n",
       "\n",
       "event_type reg - level_choice level_choice - pack_choice  \\\n",
       "index                                                      \n",
       "0                         NaT                        NaT   \n",
       "1                         NaT                        NaT   \n",
       "2                         NaT                        NaT   \n",
       "3             0 days 08:42:35            0 days 00:01:21   \n",
       "4                         NaT                        NaT   \n",
       "\n",
       "event_type pack_choice - purchase                status  \n",
       "index                                                    \n",
       "0                             NaT  not started tutorial  \n",
       "1                             NaT     finished tutorial  \n",
       "2                             NaT     finished tutorial  \n",
       "3                             NaT     finished tutorial  \n",
       "4                             NaT     finished tutorial  "
      ]
     },
     "execution_count": 222,
     "metadata": {},
     "output_type": "execute_result"
    }
   ],
   "source": [
    "def set_status(user):\n",
    "    if user in users_with_finished_tutorial:\n",
    "        return 'finished tutorial'\n",
    "    elif user in users_wo_tutorial:\n",
    "        return 'not started tutorial'\n",
    "\n",
    "user_time_df['status'] = user_time_df.user_id.apply(set_status)\n",
    "user_time_df.head()"
   ]
  },
  {
   "attachments": {},
   "cell_type": "markdown",
   "metadata": {},
   "source": [
    "Создадим таблицу с данными, отражающими среднее время прохождения различных этапов пользователями\\\n",
    "в группах пользователей, прошедших обучение и не начинавших его:"
   ]
  },
  {
   "cell_type": "code",
   "execution_count": 223,
   "metadata": {},
   "outputs": [
    {
     "data": {
      "text/html": [
       "<div>\n",
       "<style scoped>\n",
       "    .dataframe tbody tr th:only-of-type {\n",
       "        vertical-align: middle;\n",
       "    }\n",
       "\n",
       "    .dataframe tbody tr th {\n",
       "        vertical-align: top;\n",
       "    }\n",
       "\n",
       "    .dataframe thead th {\n",
       "        text-align: right;\n",
       "    }\n",
       "</style>\n",
       "<table border=\"1\" class=\"dataframe\">\n",
       "  <thead>\n",
       "    <tr style=\"text-align: right;\">\n",
       "      <th>event_type</th>\n",
       "      <th>reg - level_choice</th>\n",
       "      <th>level_choice - pack_choice</th>\n",
       "      <th>pack_choice - purchase</th>\n",
       "    </tr>\n",
       "    <tr>\n",
       "      <th>status</th>\n",
       "      <th></th>\n",
       "      <th></th>\n",
       "      <th></th>\n",
       "    </tr>\n",
       "  </thead>\n",
       "  <tbody>\n",
       "    <tr>\n",
       "      <th>finished tutorial</th>\n",
       "      <td>0 days 07:05:36.854819357</td>\n",
       "      <td>0 days 00:05:18.146058732</td>\n",
       "      <td>3 days 17:17:59.641326883</td>\n",
       "    </tr>\n",
       "    <tr>\n",
       "      <th>not started tutorial</th>\n",
       "      <td>0 days 05:15:33.122448979</td>\n",
       "      <td>0 days 00:05:23.824324324</td>\n",
       "      <td>4 days 04:49:33.590909090</td>\n",
       "    </tr>\n",
       "  </tbody>\n",
       "</table>\n",
       "</div>"
      ],
      "text/plain": [
       "event_type                  reg - level_choice level_choice - pack_choice  \\\n",
       "status                                                                      \n",
       "finished tutorial    0 days 07:05:36.854819357  0 days 00:05:18.146058732   \n",
       "not started tutorial 0 days 05:15:33.122448979  0 days 00:05:23.824324324   \n",
       "\n",
       "event_type              pack_choice - purchase  \n",
       "status                                          \n",
       "finished tutorial    3 days 17:17:59.641326883  \n",
       "not started tutorial 4 days 04:49:33.590909090  "
      ]
     },
     "metadata": {},
     "output_type": "display_data"
    }
   ],
   "source": [
    "groups = user_time_df.groupby('status')[\n",
    "    ['reg - level_choice', 'level_choice - pack_choice', 'pack_choice - purchase']\n",
    "].mean()\n",
    "display(groups)"
   ]
  },
  {
   "cell_type": "code",
   "execution_count": 224,
   "metadata": {},
   "outputs": [
    {
     "data": {
      "image/png": "[encoded data removed]",
      "text/plain": [
       "<Figure size 1200x400 with 1 Axes>"
      ]
     },
     "metadata": {},
     "output_type": "display_data"
    }
   ],
   "source": [
    "groups_diagram = groups/pd.Timedelta('1 hour')\n",
    "groups_diagram.plot(\n",
    "    kind='bar',\n",
    "    grid=True,\n",
    "    figsize=(12,4)    \n",
    ");"
   ]
  },
  {
   "attachments": {},
   "cell_type": "markdown",
   "metadata": {},
   "source": [
    "### Выводы:\n",
    "Из данных мы видим, что время **от регистрации до выбора уровня сложности** занимает больше времени у пользователей, прошедших обучение (в среднем на 2 часа),\n",
    "что, скорее всего, объясняется тем, что именно на этом этапе пользователи проходят обучение, засчёт которого время прохождения этого этапа у обучившихся пользователей дольше.\n",
    "\n",
    "Этап от выбора уровня сложности до выбора пакета вопросов у обоих групп примерно одинаков, всего около 5 минут, и как таковой не занимает много времени.\n",
    "\n",
    "Самым показательным является третий этап, **от выбора пакета вопросов до выбора пакета платных вопросов** (и, соответственно, оплаты). Здесь мы явно видим, что прошедшие обучение пользователи гораздо решительнее в выборе платных вопросов, что показывают и зелёные столбцы диаграммы (разница составляет 7-8 часов). "
   ]
  },
  {
   "attachments": {},
   "cell_type": "markdown",
   "metadata": {},
   "source": [
    "### 2. Доказать, что успешное обучение само по себе влияет на оплату и не имеет значения то, каким этапом оно шло.\n"
   ]
  },
  {
   "attachments": {},
   "cell_type": "markdown",
   "metadata": {},
   "source": [
    "Посчитаем количество событий для каждого пользователя"
   ]
  },
  {
   "cell_type": "code",
   "execution_count": 225,
   "metadata": {},
   "outputs": [],
   "source": [
    "events_cnt_df = total_df.pivot_table(\n",
    "    values='start_time',\n",
    "    index='user_id',\n",
    "    columns='event_type',\n",
    "    aggfunc='count',\n",
    "    fill_value=0\n",
    ").reset_index()"
   ]
  },
  {
   "attachments": {},
   "cell_type": "markdown",
   "metadata": {},
   "source": [
    "Посчитаем количество покупок платного пакета вопросов в зависимости от количества попыток начала обучения, \\\n",
    "а также количество зарегистрировавшихся пользователей в каждой группе"
   ]
  },
  {
   "cell_type": "code",
   "execution_count": 226,
   "metadata": {},
   "outputs": [
    {
     "name": "stderr",
     "output_type": "stream",
     "text": [
      "C:\\Users\\79313\\AppData\\Local\\Temp\\ipykernel_6168\\1464828355.py:1: FutureWarning: Indexing with multiple keys (implicitly converted to a tuple of keys) will be deprecated, use a list instead.\n",
      "  tutorial_purchase_df = events_cnt_df.groupby(\n"
     ]
    }
   ],
   "source": [
    "tutorial_purchase_df = events_cnt_df.groupby(\n",
    "    'tutorial_start'\n",
    ")['registration','purchase'].sum().reset_index()\n",
    "tutorial_purchase_df.index.rename('index', inplace=True)"
   ]
  },
  {
   "attachments": {},
   "cell_type": "markdown",
   "metadata": {},
   "source": [
    "Выведем признак, отвечающих за конверсию зарегистрировавшихся пользователей в покупателей платного пакета вопросов:"
   ]
  },
  {
   "cell_type": "code",
   "execution_count": 227,
   "metadata": {},
   "outputs": [
    {
     "data": {
      "text/html": [
       "<div>\n",
       "<style scoped>\n",
       "    .dataframe tbody tr th:only-of-type {\n",
       "        vertical-align: middle;\n",
       "    }\n",
       "\n",
       "    .dataframe tbody tr th {\n",
       "        vertical-align: top;\n",
       "    }\n",
       "\n",
       "    .dataframe thead th {\n",
       "        text-align: right;\n",
       "    }\n",
       "</style>\n",
       "<table border=\"1\" class=\"dataframe\">\n",
       "  <thead>\n",
       "    <tr style=\"text-align: right;\">\n",
       "      <th>event_type</th>\n",
       "      <th>tutorial_start</th>\n",
       "      <th>registration</th>\n",
       "      <th>purchase</th>\n",
       "      <th>CR</th>\n",
       "    </tr>\n",
       "    <tr>\n",
       "      <th>index</th>\n",
       "      <th></th>\n",
       "      <th></th>\n",
       "      <th></th>\n",
       "      <th></th>\n",
       "    </tr>\n",
       "  </thead>\n",
       "  <tbody>\n",
       "    <tr>\n",
       "      <th>0</th>\n",
       "      <td>0</td>\n",
       "      <td>8068</td>\n",
       "      <td>22</td>\n",
       "      <td>0.27</td>\n",
       "    </tr>\n",
       "    <tr>\n",
       "      <th>1</th>\n",
       "      <td>1</td>\n",
       "      <td>9103</td>\n",
       "      <td>1207</td>\n",
       "      <td>13.26</td>\n",
       "    </tr>\n",
       "    <tr>\n",
       "      <th>2</th>\n",
       "      <td>2</td>\n",
       "      <td>1589</td>\n",
       "      <td>218</td>\n",
       "      <td>13.72</td>\n",
       "    </tr>\n",
       "    <tr>\n",
       "      <th>3</th>\n",
       "      <td>3</td>\n",
       "      <td>427</td>\n",
       "      <td>51</td>\n",
       "      <td>11.94</td>\n",
       "    </tr>\n",
       "    <tr>\n",
       "      <th>4</th>\n",
       "      <td>4</td>\n",
       "      <td>221</td>\n",
       "      <td>30</td>\n",
       "      <td>13.57</td>\n",
       "    </tr>\n",
       "    <tr>\n",
       "      <th>5</th>\n",
       "      <td>5</td>\n",
       "      <td>109</td>\n",
       "      <td>16</td>\n",
       "      <td>14.68</td>\n",
       "    </tr>\n",
       "    <tr>\n",
       "      <th>6</th>\n",
       "      <td>6</td>\n",
       "      <td>116</td>\n",
       "      <td>14</td>\n",
       "      <td>12.07</td>\n",
       "    </tr>\n",
       "    <tr>\n",
       "      <th>7</th>\n",
       "      <td>7</td>\n",
       "      <td>94</td>\n",
       "      <td>12</td>\n",
       "      <td>12.77</td>\n",
       "    </tr>\n",
       "    <tr>\n",
       "      <th>8</th>\n",
       "      <td>8</td>\n",
       "      <td>86</td>\n",
       "      <td>13</td>\n",
       "      <td>15.12</td>\n",
       "    </tr>\n",
       "    <tr>\n",
       "      <th>9</th>\n",
       "      <td>9</td>\n",
       "      <td>113</td>\n",
       "      <td>17</td>\n",
       "      <td>15.04</td>\n",
       "    </tr>\n",
       "  </tbody>\n",
       "</table>\n",
       "</div>"
      ],
      "text/plain": [
       "event_type  tutorial_start  registration  purchase     CR\n",
       "index                                                    \n",
       "0                        0          8068        22   0.27\n",
       "1                        1          9103      1207  13.26\n",
       "2                        2          1589       218  13.72\n",
       "3                        3           427        51  11.94\n",
       "4                        4           221        30  13.57\n",
       "5                        5           109        16  14.68\n",
       "6                        6           116        14  12.07\n",
       "7                        7            94        12  12.77\n",
       "8                        8            86        13  15.12\n",
       "9                        9           113        17  15.04"
      ]
     },
     "execution_count": 227,
     "metadata": {},
     "output_type": "execute_result"
    }
   ],
   "source": [
    "tutorial_purchase_df['CR'] = round(\n",
    "    tutorial_purchase_df['purchase']/tutorial_purchase_df['registration'] * 100, 2\n",
    ")\n",
    "tutorial_purchase_df"
   ]
  },
  {
   "cell_type": "code",
   "execution_count": 228,
   "metadata": {},
   "outputs": [
    {
     "data": {
      "image/png": "[encoded data removed]",
      "text/plain": [
       "<Figure size 1200x400 with 1 Axes>"
      ]
     },
     "metadata": {},
     "output_type": "display_data"
    }
   ],
   "source": [
    "tutorial_purchase_df.plot(\n",
    "    kind='bar',\n",
    "    grid=True,\n",
    "    figsize=(12,4),\n",
    "    x='tutorial_start',\n",
    "    y='CR'\n",
    ");"
   ]
  },
  {
   "attachments": {},
   "cell_type": "markdown",
   "metadata": {},
   "source": [
    "### Выводы:\n",
    "\n",
    "Мы можем констатировать, что конверсия у всех групп пользователей, **начавших хотя бы раз обучение**, варьируется незначительно **в пределах 12-15 %**.\n",
    "\n",
    "В то же время очевидно, что конверсия этой группы пользователей значительно выше по сравнению с группой ни разу не начавших обучение.\\\n",
    "Конверсия пользователей, **не прошедших обучение**, составляет **менее 0,5 %**."
   ]
  },
  {
   "attachments": {},
   "cell_type": "markdown",
   "metadata": {},
   "source": [
    "### 3. Определить, насколько прозрачен процесс взаимодействия с игрой."
   ]
  },
  {
   "attachments": {},
   "cell_type": "markdown",
   "metadata": {},
   "source": [
    "Определим количество всех пользователей, выбравших уровень сложности"
   ]
  },
  {
   "cell_type": "code",
   "execution_count": 229,
   "metadata": {},
   "outputs": [
    {
     "name": "stdout",
     "output_type": "stream",
     "text": [
      "Количество всех пользователей, выбравших уровень сложности: 8342\n"
     ]
    }
   ],
   "source": [
    "level_choice_users = total_df[\n",
    "    total_df['event_type'] == 'level_choice'\n",
    "]['user_id'].nunique()\n",
    "print(f'Количество всех пользователей, '\n",
    "      f'выбравших уровень сложности: {level_choice_users}')"
   ]
  },
  {
   "attachments": {},
   "cell_type": "markdown",
   "metadata": {},
   "source": [
    "Создадим таблицу с самым поздним временем начала обучения для каждого пользователя:"
   ]
  },
  {
   "cell_type": "code",
   "execution_count": 230,
   "metadata": {},
   "outputs": [
    {
     "data": {
      "text/html": [
       "<div>\n",
       "<style scoped>\n",
       "    .dataframe tbody tr th:only-of-type {\n",
       "        vertical-align: middle;\n",
       "    }\n",
       "\n",
       "    .dataframe tbody tr th {\n",
       "        vertical-align: top;\n",
       "    }\n",
       "\n",
       "    .dataframe thead th {\n",
       "        text-align: right;\n",
       "    }\n",
       "</style>\n",
       "<table border=\"1\" class=\"dataframe\">\n",
       "  <thead>\n",
       "    <tr style=\"text-align: right;\">\n",
       "      <th></th>\n",
       "      <th>user_id</th>\n",
       "      <th>tutorial_start</th>\n",
       "    </tr>\n",
       "  </thead>\n",
       "  <tbody>\n",
       "    <tr>\n",
       "      <th>0</th>\n",
       "      <td>27833</td>\n",
       "      <td>2018-01-01 17:47:40</td>\n",
       "    </tr>\n",
       "    <tr>\n",
       "      <th>1</th>\n",
       "      <td>27834</td>\n",
       "      <td>2018-01-01 19:46:11</td>\n",
       "    </tr>\n",
       "    <tr>\n",
       "      <th>2</th>\n",
       "      <td>27835</td>\n",
       "      <td>2018-01-01 15:00:51</td>\n",
       "    </tr>\n",
       "    <tr>\n",
       "      <th>3</th>\n",
       "      <td>27836</td>\n",
       "      <td>2018-01-01 15:40:43</td>\n",
       "    </tr>\n",
       "    <tr>\n",
       "      <th>4</th>\n",
       "      <td>27839</td>\n",
       "      <td>2018-01-01 19:11:36</td>\n",
       "    </tr>\n",
       "  </tbody>\n",
       "</table>\n",
       "</div>"
      ],
      "text/plain": [
       "   user_id      tutorial_start\n",
       "0    27833 2018-01-01 17:47:40\n",
       "1    27834 2018-01-01 19:46:11\n",
       "2    27835 2018-01-01 15:00:51\n",
       "3    27836 2018-01-01 15:40:43\n",
       "4    27839 2018-01-01 19:11:36"
      ]
     },
     "execution_count": 230,
     "metadata": {},
     "output_type": "execute_result"
    }
   ],
   "source": [
    "tutorial_start_df = total_df[\n",
    "    total_df['event_type'] == 'tutorial_start'\n",
    "].rename(columns={'start_time':'tutorial_start'})\n",
    "\n",
    "tutorial_start_df = tutorial_start_df.groupby(\n",
    "    'user_id'\n",
    ")['tutorial_start'].max().reset_index()\n",
    "tutorial_start_df.head()"
   ]
  },
  {
   "attachments": {},
   "cell_type": "markdown",
   "metadata": {},
   "source": [
    "Создадим таблицу с самым ранним временем выбора уровня сложности для каждого пользователя:"
   ]
  },
  {
   "cell_type": "code",
   "execution_count": 231,
   "metadata": {},
   "outputs": [
    {
     "data": {
      "text/html": [
       "<div>\n",
       "<style scoped>\n",
       "    .dataframe tbody tr th:only-of-type {\n",
       "        vertical-align: middle;\n",
       "    }\n",
       "\n",
       "    .dataframe tbody tr th {\n",
       "        vertical-align: top;\n",
       "    }\n",
       "\n",
       "    .dataframe thead th {\n",
       "        text-align: right;\n",
       "    }\n",
       "</style>\n",
       "<table border=\"1\" class=\"dataframe\">\n",
       "  <thead>\n",
       "    <tr style=\"text-align: right;\">\n",
       "      <th></th>\n",
       "      <th>user_id</th>\n",
       "      <th>level_choice_start</th>\n",
       "    </tr>\n",
       "  </thead>\n",
       "  <tbody>\n",
       "    <tr>\n",
       "      <th>0</th>\n",
       "      <td>27835</td>\n",
       "      <td>2018-01-01 20:37:22</td>\n",
       "    </tr>\n",
       "    <tr>\n",
       "      <th>1</th>\n",
       "      <td>27839</td>\n",
       "      <td>2018-01-01 22:37:50</td>\n",
       "    </tr>\n",
       "    <tr>\n",
       "      <th>2</th>\n",
       "      <td>27840</td>\n",
       "      <td>2018-01-02 05:18:42</td>\n",
       "    </tr>\n",
       "    <tr>\n",
       "      <th>3</th>\n",
       "      <td>27842</td>\n",
       "      <td>2018-01-02 08:46:03</td>\n",
       "    </tr>\n",
       "    <tr>\n",
       "      <th>4</th>\n",
       "      <td>27843</td>\n",
       "      <td>2018-01-02 14:09:58</td>\n",
       "    </tr>\n",
       "  </tbody>\n",
       "</table>\n",
       "</div>"
      ],
      "text/plain": [
       "   user_id  level_choice_start\n",
       "0    27835 2018-01-01 20:37:22\n",
       "1    27839 2018-01-01 22:37:50\n",
       "2    27840 2018-01-02 05:18:42\n",
       "3    27842 2018-01-02 08:46:03\n",
       "4    27843 2018-01-02 14:09:58"
      ]
     },
     "execution_count": 231,
     "metadata": {},
     "output_type": "execute_result"
    }
   ],
   "source": [
    "level_choice_df = total_df[\n",
    "    total_df['event_type'] == 'level_choice'\n",
    "].rename(columns={'start_time':'level_choice_start'})\n",
    "\n",
    "level_choice_df = level_choice_df.groupby(\n",
    "    'user_id'\n",
    ")['level_choice_start'].min().reset_index()\n",
    "level_choice_df.head()"
   ]
  },
  {
   "attachments": {},
   "cell_type": "markdown",
   "metadata": {},
   "source": [
    "Объединяем обе получившиеся таблицы и создаём столбец, \\\n",
    "отражающий разницу во времени между самым поздним временем начала обучения \\\n",
    "и самым ранним временем выбора уровня сложности:"
   ]
  },
  {
   "cell_type": "code",
   "execution_count": 232,
   "metadata": {},
   "outputs": [],
   "source": [
    "level_tutorial_df = tutorial_start_df.merge(level_choice_df, on='user_id', how='inner')\n",
    "level_tutorial_df['time_diff'] = (level_tutorial_df['level_choice_start'] \n",
    "    - level_tutorial_df['tutorial_start'])"
   ]
  },
  {
   "cell_type": "code",
   "execution_count": 233,
   "metadata": {},
   "outputs": [
    {
     "data": {
      "text/html": [
       "<div>\n",
       "<style scoped>\n",
       "    .dataframe tbody tr th:only-of-type {\n",
       "        vertical-align: middle;\n",
       "    }\n",
       "\n",
       "    .dataframe tbody tr th {\n",
       "        vertical-align: top;\n",
       "    }\n",
       "\n",
       "    .dataframe thead th {\n",
       "        text-align: right;\n",
       "    }\n",
       "</style>\n",
       "<table border=\"1\" class=\"dataframe\">\n",
       "  <thead>\n",
       "    <tr style=\"text-align: right;\">\n",
       "      <th></th>\n",
       "      <th>user_id</th>\n",
       "      <th>tutorial_start</th>\n",
       "      <th>level_choice_start</th>\n",
       "      <th>time_diff</th>\n",
       "    </tr>\n",
       "  </thead>\n",
       "  <tbody>\n",
       "    <tr>\n",
       "      <th>0</th>\n",
       "      <td>27835</td>\n",
       "      <td>2018-01-01 15:00:51</td>\n",
       "      <td>2018-01-01 20:37:22</td>\n",
       "      <td>20191.0</td>\n",
       "    </tr>\n",
       "    <tr>\n",
       "      <th>1</th>\n",
       "      <td>27839</td>\n",
       "      <td>2018-01-01 19:11:36</td>\n",
       "      <td>2018-01-01 22:37:50</td>\n",
       "      <td>12374.0</td>\n",
       "    </tr>\n",
       "    <tr>\n",
       "      <th>2</th>\n",
       "      <td>27840</td>\n",
       "      <td>2018-01-02 02:07:07</td>\n",
       "      <td>2018-01-02 05:18:42</td>\n",
       "      <td>11495.0</td>\n",
       "    </tr>\n",
       "    <tr>\n",
       "      <th>3</th>\n",
       "      <td>27842</td>\n",
       "      <td>2018-01-02 18:08:01</td>\n",
       "      <td>2018-01-02 08:46:03</td>\n",
       "      <td>-33718.0</td>\n",
       "    </tr>\n",
       "    <tr>\n",
       "      <th>4</th>\n",
       "      <td>27843</td>\n",
       "      <td>2018-01-02 13:34:51</td>\n",
       "      <td>2018-01-02 14:09:58</td>\n",
       "      <td>2107.0</td>\n",
       "    </tr>\n",
       "  </tbody>\n",
       "</table>\n",
       "</div>"
      ],
      "text/plain": [
       "   user_id      tutorial_start  level_choice_start  time_diff\n",
       "0    27835 2018-01-01 15:00:51 2018-01-01 20:37:22    20191.0\n",
       "1    27839 2018-01-01 19:11:36 2018-01-01 22:37:50    12374.0\n",
       "2    27840 2018-01-02 02:07:07 2018-01-02 05:18:42    11495.0\n",
       "3    27842 2018-01-02 18:08:01 2018-01-02 08:46:03   -33718.0\n",
       "4    27843 2018-01-02 13:34:51 2018-01-02 14:09:58     2107.0"
      ]
     },
     "execution_count": 233,
     "metadata": {},
     "output_type": "execute_result"
    }
   ],
   "source": [
    "level_tutorial_df['time_diff'] = (level_tutorial_df['time_diff']\n",
    "    /pd.Timedelta('1 second'))\n",
    "level_tutorial_df.head()"
   ]
  },
  {
   "attachments": {},
   "cell_type": "markdown",
   "metadata": {},
   "source": [
    "Если значение столбца time_diff отрицательное, значит, \\\n",
    "пользователь хотя бы раз вернулся к обучению после выбора уровня сложности.  \n",
    "Теперь мы можем подсчитать общее количество таких пользователей:"
   ]
  },
  {
   "cell_type": "code",
   "execution_count": 234,
   "metadata": {},
   "outputs": [
    {
     "name": "stdout",
     "output_type": "stream",
     "text": [
      "Количество пользователей, вернувшихся к обучению после этапа выбора уровня сложности: 1386\n"
     ]
    }
   ],
   "source": [
    "tutorial_after_level_ch_users = level_tutorial_df[\n",
    "    level_tutorial_df['time_diff'] < 0\n",
    "]['user_id'].count()\n",
    "\n",
    "print(f'Количество пользователей, '\n",
    "      f'вернувшихся к обучению после этапа выбора уровня сложности: '\n",
    "      f'{tutorial_after_level_ch_users}')"
   ]
  },
  {
   "attachments": {},
   "cell_type": "markdown",
   "metadata": {},
   "source": [
    "Вычислим процент пользователей, вернувшихся к обучению, относительно всех выбравших уровень сложности пользователей:"
   ]
  },
  {
   "cell_type": "code",
   "execution_count": 236,
   "metadata": {},
   "outputs": [
    {
     "name": "stdout",
     "output_type": "stream",
     "text": [
      "Количество всех пользователей, выбравших уровень сложности: 8342\n",
      "Количество пользователей, вернувшихся к обучению после этапа выбора уровня сложности: 1386\n",
      "Процент пользователей, вернувшихся к обучению после выбора уровня сложности: 16.61 %\n"
     ]
    }
   ],
   "source": [
    "print(f'Количество всех пользователей, '\n",
    "      f'выбравших уровень сложности: {level_choice_users}')\n",
    "print(\n",
    "    f'Количество пользователей, '\n",
    "    f'вернувшихся к обучению после этапа выбора уровня сложности: '\n",
    "    f'{tutorial_after_level_ch_users}'\n",
    ")\n",
    "\n",
    "tutorial_after_level_ch_percent = round(\n",
    "    tutorial_after_level_ch_users/level_choice_users * 100, 2\n",
    ")\n",
    "print(\n",
    "    f'Процент пользователей, вернувшихся к обучению '\n",
    "    f'после выбора уровня сложности: {tutorial_after_level_ch_percent} %'\n",
    ")"
   ]
  },
  {
   "attachments": {},
   "cell_type": "markdown",
   "metadata": {},
   "source": [
    "### Вывод:\n",
    "Как мы видим, **17 % пользователей** возвращаются к обучению после начала игры,\\\n",
    "что является довольно неплохим показателем."
   ]
  },
  {
   "attachments": {},
   "cell_type": "markdown",
   "metadata": {},
   "source": [
    "## Общие выводы:"
   ]
  },
  {
   "attachments": {},
   "cell_type": "markdown",
   "metadata": {},
   "source": [
    "1. Пользователи, **прошедшие обучение**, значительно быстрее переходят от выбора уровня сложности **к покупке платных пакетов вопросов** по сравнению с не прошедшими обучение (в среднем на 7-8 часов)\n",
    "2. **Конверсия** пользователей, хотя бы раз начавших **обучение**, не зависит от количества обучений, составляет **12 - 15 %** и значительно выше, чем у пользователей, не начавших обучение ни разу.\n",
    "3. Процесс обучения в игре прозрачен в достаточной степени, после начала игры только около **17 % пользователей возвращаются к обучению**. \n",
    "4. Обучение как этап в игре оказывается значимым фактором для привлечения пользователей к платным услугам, имеет смысл подумать, как дополнительно привлечь внимание пользователей к этому этапу или даже, возможно, сделать обучение в игре обязательным для всех пользователей - с целью повысить конверсию. "
   ]
  }
 ],
 "metadata": {
  "kernelspec": {
   "display_name": "Python 3",
   "language": "python",
   "name": "python3"
  },
  "language_info": {
   "codemirror_mode": {
    "name": "ipython",
    "version": 3
   },
   "file_extension": ".py",
   "mimetype": "text/x-python",
   "name": "python",
   "nbconvert_exporter": "python",
   "pygments_lexer": "ipython3",
   "version": "3.9.10"
  },
  "orig_nbformat": 4
 },
 "nbformat": 4,
 "nbformat_minor": 2
}
